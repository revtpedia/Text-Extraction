{
 "cells": [
  {
   "cell_type": "code",
   "execution_count": 1,
   "metadata": {},
   "outputs": [],
   "source": [
    "#To read pdf documents\n",
    "import PyPDF2\n",
    "import re\n",
    "def pdf_reader(pdf_name): \n",
    "    name=\"D:/\"+pdf_name                    #path is known\n",
    "    read_pdf = PyPDF2.PdfFileReader(name)\n",
    "    number_of_pages = read_pdf.getNumPages()\n",
    "    contents=[]\n",
    "    for i in range(number_of_pages):\n",
    "       page = read_pdf.getPage(i)\n",
    "       page_content =' '.join(re.split(r\"\\s+\",page.extractText()))       #To remove extra spaces\n",
    "       if page_content not in ('',' '):                                  #To exclude null or empty pages\n",
    "           contents.append(page_content)\n",
    "    full_doc=\" \".join([i for i in contents])                             #Joining all pages to get a single body of text\n",
    "    return full_doc\n"
   ]
  },
  {
   "cell_type": "code",
   "execution_count": 5,
   "metadata": {
    "collapsed": true
   },
   "outputs": [
    {
     "name": "stdout",
     "output_type": "stream",
     "text": [
      "Collecting python-docx\n",
      "  Downloading https://files.pythonhosted.org/packages/e4/83/c66a1934ed5ed8ab1dbb9931f1779079f8bca0f6bbc5793c06c4b5e7d671/python-docx-0.8.10.tar.gz (5.5MB)\n",
      "Requirement already satisfied: lxml>=2.3.2 in c:\\programdata\\anaconda3\\lib\\site-packages (from python-docx) (4.3.4)\n",
      "Building wheels for collected packages: python-docx\n",
      "  Building wheel for python-docx (setup.py): started\n",
      "  Building wheel for python-docx (setup.py): finished with status 'done'\n",
      "  Stored in directory: C:\\Users\\admin\\AppData\\Local\\pip\\Cache\\wheels\\18\\0b\\a0\\1dd62ff812c857c9e487f27d80d53d2b40531bec1acecfa47b\n",
      "Successfully built python-docx\n",
      "Installing collected packages: python-docx\n",
      "Successfully installed python-docx-0.8.10\n",
      "Note: you may need to restart the kernel to use updated packages.\n"
     ]
    }
   ],
   "source": [
    "#installing\n",
    "pip install python-docx"
   ]
  },
  {
   "cell_type": "code",
   "execution_count": 2,
   "metadata": {},
   "outputs": [],
   "source": [
    "#To read msword files\n",
    "from docx import Document\n",
    "def doc_reader(doc_name):\n",
    "    document=Document(doc_name)\n",
    "    def para2text(p):\n",
    "        rs = p._element.xpath('.//w:t')\n",
    "        return u\" \".join([r.text for r in rs])\n",
    "    full_doc=\" \".join(para2text(para) for para in document.paragraphs)\n",
    "    return full_doc"
   ]
  },
  {
   "cell_type": "code",
   "execution_count": 3,
   "metadata": {},
   "outputs": [],
   "source": [
    "#Function to read txt files\n",
    "def txt_reader(file_name):                                                                   \n",
    "    file = open(file_name,'r')       #as file is in the directory\n",
    "    full_text=' '.join(l for l in file.readlines()) \n",
    "    file.close()\n",
    "    return full_text"
   ]
  },
  {
   "cell_type": "code",
   "execution_count": 4,
   "metadata": {},
   "outputs": [],
   "source": [
    "#Function to identify which is the document being read\n",
    "def file_reader(file_name):\n",
    "    if file_name.endswith('.pdf'):\n",
    "        return(pdf_reader(file_name))\n",
    "    elif file_name.endswith('.docx'):\n",
    "        return(doc_reader(file_name))\n",
    "    elif file_name.endswith('.txt'):\n",
    "        return(txt_reader(file_name))\n",
    "    else:\n",
    "        print(\"Sorry, This file Type is not supported\")\n",
    "        return('Type Not Supported')"
   ]
  },
  {
   "cell_type": "code",
   "execution_count": null,
   "metadata": {},
   "outputs": [],
   "source": [
    "files=['textfile.txt','rev.pdf','Word.docx','sample.pdf']                #files to be read should be in directory\n",
    "#Text content from all the documents saved as a list element for later use\n",
    "documents=[file_reader(f) for f in files]                   "
   ]
  }
 ],
 "metadata": {
  "kernelspec": {
   "display_name": "Python 3",
   "language": "python",
   "name": "python3"
  },
  "language_info": {
   "codemirror_mode": {
    "name": "ipython",
    "version": 3
   },
   "file_extension": ".py",
   "mimetype": "text/x-python",
   "name": "python",
   "nbconvert_exporter": "python",
   "pygments_lexer": "ipython3",
   "version": "3.7.3"
  }
 },
 "nbformat": 4,
 "nbformat_minor": 2
}
